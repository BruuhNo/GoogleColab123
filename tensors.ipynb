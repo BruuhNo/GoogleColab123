{
  "nbformat": 4,
  "nbformat_minor": 0,
  "metadata": {
    "colab": {
      "provenance": [],
      "gpuType": "T4",
      "authorship_tag": "ABX9TyPKbjr3VvCnEE07h2h4RI5c",
      "include_colab_link": true
    },
    "kernelspec": {
      "name": "python3",
      "display_name": "Python 3"
    },
    "language_info": {
      "name": "python"
    },
    "accelerator": "GPU"
  },
  "cells": [
    {
      "cell_type": "markdown",
      "metadata": {
        "id": "view-in-github",
        "colab_type": "text"
      },
      "source": [
        "<a href=\"https://colab.research.google.com/github/BruuhNo/GoogleColab123/blob/main/tensors.ipynb\" target=\"_parent\"><img src=\"https://colab.research.google.com/assets/colab-badge.svg\" alt=\"Open In Colab\"/></a>"
      ]
    },
    {
      "cell_type": "code",
      "execution_count": 2,
      "metadata": {
        "id": "xShjqUEOCMdf"
      },
      "outputs": [],
      "source": [
        "import tensorflow as tf\n",
        "from tensorflow.keras import layers, models"
      ]
    },
    {
      "cell_type": "code",
      "source": [
        "# Dados de treinamento\n",
        "training_data = [\n",
        "    {'input': [1, 2], 'output': [3]},      # MaÃ§Ã£\n",
        "    {'input': [70, 30], 'output': [100]},  # Morango\n",
        "    {'input': [50, 50], 'output': [100]},  # Banana\n",
        "    {'input': [10, 95], 'output': [105]}   # PÃªra\n",
        "]"
      ],
      "metadata": {
        "id": "VAYZ7MY3C1QN"
      },
      "execution_count": 3,
      "outputs": []
    },
    {
      "cell_type": "code",
      "source": [
        "# Convertendo dados para numpy arrays\n",
        "inputs = tf.constant([data['input'] for data in training_data], dtype=tf.float32)\n",
        "outputs = tf.constant([data['output'] for data in training_data], dtype=tf.float32)"
      ],
      "metadata": {
        "id": "Twuv6YQmC5VN"
      },
      "execution_count": 4,
      "outputs": []
    },
    {
      "cell_type": "code",
      "source": [
        "# Criando o modelo\n",
        "model = models.Sequential([\n",
        "    layers.Dense(50, input_shape=(2,), activation='relu'),\n",
        "    layers.Dense(1)\n",
        "])"
      ],
      "metadata": {
        "id": "aozagKU7C-jK"
      },
      "execution_count": 5,
      "outputs": []
    },
    {
      "cell_type": "code",
      "source": [
        "# Compilando o modelo\n",
        "model.compile(optimizer='adam', loss='mean_squared_error')"
      ],
      "metadata": {
        "id": "08dKP75UDCNr"
      },
      "execution_count": 6,
      "outputs": []
    },
    {
      "cell_type": "code",
      "source": [
        "# Treinando o modelo\n",
        "model.fit(inputs, outputs, epochs=10000, verbose=0)"
      ],
      "metadata": {
        "colab": {
          "base_uri": "https://localhost:8080/"
        },
        "id": "Gq3ZWz7bDGum",
        "outputId": "14fca49b-5e31-4343-814d-a6564d594be3"
      },
      "execution_count": 9,
      "outputs": [
        {
          "output_type": "execute_result",
          "data": {
            "text/plain": [
              "<keras.src.callbacks.History at 0x7fd5f0423970>"
            ]
          },
          "metadata": {},
          "execution_count": 9
        }
      ]
    },
    {
      "cell_type": "code",
      "source": [
        "# Testando o modelo\n",
        "test_data = tf.constant([[51, 100]], dtype=tf.float32)\n",
        "result = model.predict(test_data)\n",
        "print('Resultado:', result.flatten()[0])"
      ],
      "metadata": {
        "colab": {
          "base_uri": "https://localhost:8080/"
        },
        "id": "ffVvCfSuDJ0K",
        "outputId": "aedb6fdc-fd4c-4911-c322-1e94c273bada"
      },
      "execution_count": 10,
      "outputs": [
        {
          "output_type": "stream",
          "name": "stdout",
          "text": [
            "1/1 [==============================] - 0s 17ms/step\n",
            "Resultado: 150.58083\n"
          ]
        }
      ]
    }
  ]
}